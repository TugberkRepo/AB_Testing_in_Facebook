{
 "cells": [
  {
   "cell_type": "markdown",
   "id": "c881a8e3",
   "metadata": {},
   "source": [
    "# Comparison of AB Testing and Bidding Methods Transformation\n",
    "![Logo](data:image/png;base64,iVBORw0KGgoAAAANSUhEUgAAAOEAAADhCAMAAAAJbSJIAAAAb1BMVEU7V53///82U5soSpbx8/izvdlofLA5VZw/XKHd4eyrt9QzUZpec6v2+PuFlb/o6/S8xdxzhbdEYKPX3eugrM19j71ZcKv09vrl6fLHz+JVbaovTpmWpMlPaah1h7hid67O1eaRn8aWpMoPO5AjRZW/EryeAAAEb0lEQVR4nO3dC4+iSBSG4aJED1rQIDcvqNiz+/9/48DYvbOXBEvZ4pyqfG8mnXQybXiCgBRQquhRXjRtqUKpbJsi/5KpXz/jOlWaiHvB/reItErr+Lew2msdDu8Rab2vvoVFaULzjZEpi4ewKjX3wjhKl9UojG+Ge0mcZW7xIKyD2wR/R7qOVJ6G+h4d02muChXuKhxW4uBrwt0Kx0yj2pBX4bASW1UGLgznoyhCCCGEEEIIIYQQchaNV8lIf0fDb+OP8eKZ/8Nng8EQJeW57Tdf9X2ftufz9Vom43/Qxhh/r0eQ0UnbXHane3XM4/hwiMfy/HjcVtX9fiqKdV1/ftw258RDI+muS/a7e37IoqmybHAfPbxuplX7cYonbX9nfvgmNGqz3k6vO5+FZFb9X3dQhCgk1a9f4vkm1El9fBXok5C6c/Gyzych6c/XNkDfhJRcXtiBeijUqj68BfRFSOqdTdAjISW7d4F+CEm/uQ16I+w+3wd6IdTntw4T/ggpeXsv44eQqJ4D9ECoN69/FvVLuJr1HvVAqDfzgOKFMz7MeCI0e+sBGT+FM48UHgh1P29HKl/Yfc4FChdSVwUu1NcZH7m9EJqP2UDhQnUKXEjXbeBC/eLhPntcYvtnueSnRewHL7L8frn1pdLdfxN8+ZCU7UWK7aVPxsu9ROPzS//6J7nEbkeT1WdPL2bT2ep4H28kvxEno95mBCr+6LgX9O303mYgf8e9mDMyjcWu1OsnlK1OLC6Cj3ZP6y4WwrPHq1CtLAZKK2/3o2MriwtO6xX3Us5pZfGRpg5dmHl8MFR2QsknDs+zEB72oQvjjc8HCwgh9CAIIZQfhBDKD0II5QchhPKDEEL5QeiHkCayEpqpVyABT3QnE3U2wslXGOP1UXvfTmRxr8lx6u/HCt4BVZ3OeZLCqhPvsP8Cwl3wwjp0IffFKffCeM97wHQvzFPeA6J7YXUNXXhingXZvZB7snX3wh3z51LnwuwH87mHc+GB+04G58Lh7Cpw4ZH7KwGcCyvurwRwLjxxn+I7F66573B3LvzBfcuUcyH7XG3OhT33YKNrYcZ8ZuFemLN/lZpr4Zb9DmLXwlPwwl3wwgv7XeCOhdxDie6F3EOJ7oVH/u/8cyzkHkp0L+QeSnQv5B5KVOOUAvVuoufzDWTF1N837MCBuJroj+fPrsXpnxMvwH3q9LQw7sWYCkII5QchhPKDEEL5QQih/CCEUH4QQig/CCGUH4QQyg9CCOUHIYTygxBC+UEIofwghFB+EEIoPwghlB+EEMoPQgjlByGE8oMQQvlBCKH8IIRQfhBCKD8IIZQfhBC+ENPkC4sJSSU8xKWEVCqmSUAXE7aKaarapYSmUUzzvCwkpMGX88y3tJBQp7mKapaJTpcRkq4jFcUs84AuIzS3eBBGVcnwPl1EqMsqGoVRUS4/UeYCQjJlET2EUbXXS2+MzoWk9b6KvoVRXKdKL/oFUW6FRFql9WM2NfX1cnnRtEvO8eZWWLZN8T1b3E8GyF19lc9R6AAAAABJRU5ErkJggg==)\n",
    "\n",
    "***Facebook introduced a new bid type called “average bidding” a long time ago as an alternative to the existing bidding type called “maximum bidding”. One of our clients x.com decided to test this new feature and wanted to do an A/B test to see if average bidding would bring more conversions than maximum bidding. The A/B test has been running for 1 month and x.com now expects you to analyze the results of this A/B test. The ultimate success metric for x.com is Purchase. Therefore, for statistical tests, the focus should be on Purchasemetrics.***"
   ]
  },
  {
   "cell_type": "markdown",
   "id": "7d489bef",
   "metadata": {},
   "source": [
    "#####################################################\n",
    "## Data Set\n",
    "#####################################################\n",
    "\n",
    "***This dataset, which includes information about a company's website, includes information such as the number of ads users have seen and clicked, as well as the earnings information from there. There are two separate datasets: Control and Test groups. These datasets are located on separate pages of the ab_testing.xlsx excel. Maximum Bidding was applied to the control group, and Average Bidding was applied to the test group.***\n",
    "\n",
    "***impression: Number of ad views***\n",
    "\n",
    "***Click: Number of clicks on the viewed ad***\n",
    "\n",
    "***Purchase: Number of products purchased after clicked ads***\n",
    "\n",
    "***Earning: Earnings obtained after purchased products***"
   ]
  },
  {
   "cell_type": "code",
   "execution_count": 2,
   "id": "6311da6e",
   "metadata": {},
   "outputs": [],
   "source": [
    "import pandas as pd\n",
    "import numpy as np\n",
    "import pandas as pd\n",
    "import matplotlib.pyplot as plt\n",
    "from scipy.stats import shapiro, levene, ttest_ind\n",
    "\n",
    "\n",
    "pd.set_option('display.max_columns', None)\n",
    "pd.set_option('display.expand_frame_repr', False)\n",
    "pd.set_option('display.float_format', lambda x: '%.5f' % x)\n",
    "\n",
    "dataframe_control = pd.read_excel(\"ab_testing.xlsx\" , sheet_name=\"Control Group\")\n",
    "dataframe_test = pd.read_excel(\"ab_testing.xlsx\" , sheet_name=\"Test Group\")\n",
    "\n",
    "df_control = dataframe_control.copy()\n",
    "df_test = dataframe_test.copy()"
   ]
  },
  {
   "cell_type": "code",
   "execution_count": 3,
   "id": "f0a4d768",
   "metadata": {},
   "outputs": [
    {
     "data": {
      "text/html": [
       "<div>\n",
       "<style scoped>\n",
       "    .dataframe tbody tr th:only-of-type {\n",
       "        vertical-align: middle;\n",
       "    }\n",
       "\n",
       "    .dataframe tbody tr th {\n",
       "        vertical-align: top;\n",
       "    }\n",
       "\n",
       "    .dataframe thead th {\n",
       "        text-align: right;\n",
       "    }\n",
       "</style>\n",
       "<table border=\"1\" class=\"dataframe\">\n",
       "  <thead>\n",
       "    <tr style=\"text-align: right;\">\n",
       "      <th></th>\n",
       "      <th>Impression</th>\n",
       "      <th>Click</th>\n",
       "      <th>Purchase</th>\n",
       "      <th>Earning</th>\n",
       "      <th>group</th>\n",
       "    </tr>\n",
       "  </thead>\n",
       "  <tbody>\n",
       "    <tr>\n",
       "      <th>35</th>\n",
       "      <td>79234.91193</td>\n",
       "      <td>6002.21358</td>\n",
       "      <td>382.04712</td>\n",
       "      <td>2277.86398</td>\n",
       "      <td>test</td>\n",
       "    </tr>\n",
       "    <tr>\n",
       "      <th>36</th>\n",
       "      <td>130702.23941</td>\n",
       "      <td>3626.32007</td>\n",
       "      <td>449.82459</td>\n",
       "      <td>2530.84133</td>\n",
       "      <td>test</td>\n",
       "    </tr>\n",
       "    <tr>\n",
       "      <th>37</th>\n",
       "      <td>116481.87337</td>\n",
       "      <td>4702.78247</td>\n",
       "      <td>472.45373</td>\n",
       "      <td>2597.91763</td>\n",
       "      <td>test</td>\n",
       "    </tr>\n",
       "    <tr>\n",
       "      <th>38</th>\n",
       "      <td>79033.83492</td>\n",
       "      <td>4495.42818</td>\n",
       "      <td>425.35910</td>\n",
       "      <td>2595.85788</td>\n",
       "      <td>test</td>\n",
       "    </tr>\n",
       "    <tr>\n",
       "      <th>39</th>\n",
       "      <td>102257.45409</td>\n",
       "      <td>4800.06832</td>\n",
       "      <td>521.31073</td>\n",
       "      <td>2967.51839</td>\n",
       "      <td>test</td>\n",
       "    </tr>\n",
       "  </tbody>\n",
       "</table>\n",
       "</div>"
      ],
      "text/plain": [
       "     Impression      Click  Purchase    Earning group\n",
       "35  79234.91193 6002.21358 382.04712 2277.86398  test\n",
       "36 130702.23941 3626.32007 449.82459 2530.84133  test\n",
       "37 116481.87337 4702.78247 472.45373 2597.91763  test\n",
       "38  79033.83492 4495.42818 425.35910 2595.85788  test\n",
       "39 102257.45409 4800.06832 521.31073 2967.51839  test"
      ]
     },
     "execution_count": 3,
     "metadata": {},
     "output_type": "execute_result"
    }
   ],
   "source": [
    "df_control[\"group\"] = \"control\"\n",
    "df_test[\"group\"] = \"test\"\n",
    "\n",
    "df = pd.concat([df_control,df_test], axis=0,ignore_index=False)\n",
    "df.head()\n",
    "df.tail()"
   ]
  },
  {
   "cell_type": "markdown",
   "id": "b8a755ac",
   "metadata": {},
   "source": [
    "## Defining the Hypothesis of A/B Testing"
   ]
  },
  {
   "cell_type": "markdown",
   "id": "1a7d8793",
   "metadata": {},
   "source": [
    "***Hypothesis is defined.***\n",
    "\n",
    "***H0: M1 = M2 (There is no difference between the control group and test group purchase averages.)***\n",
    "\n",
    "***H1: M1!= M2 (There is a difference between the control group and test group purchase averages.)***"
   ]
  },
  {
   "cell_type": "code",
   "execution_count": 5,
   "id": "852468a8",
   "metadata": {},
   "outputs": [
    {
     "data": {
      "text/html": [
       "<div>\n",
       "<style scoped>\n",
       "    .dataframe tbody tr th:only-of-type {\n",
       "        vertical-align: middle;\n",
       "    }\n",
       "\n",
       "    .dataframe tbody tr th {\n",
       "        vertical-align: top;\n",
       "    }\n",
       "\n",
       "    .dataframe thead th {\n",
       "        text-align: right;\n",
       "    }\n",
       "</style>\n",
       "<table border=\"1\" class=\"dataframe\">\n",
       "  <thead>\n",
       "    <tr style=\"text-align: right;\">\n",
       "      <th></th>\n",
       "      <th>Purchase</th>\n",
       "    </tr>\n",
       "    <tr>\n",
       "      <th>group</th>\n",
       "      <th></th>\n",
       "    </tr>\n",
       "  </thead>\n",
       "  <tbody>\n",
       "    <tr>\n",
       "      <th>control</th>\n",
       "      <td>550.89406</td>\n",
       "    </tr>\n",
       "    <tr>\n",
       "      <th>test</th>\n",
       "      <td>582.10610</td>\n",
       "    </tr>\n",
       "  </tbody>\n",
       "</table>\n",
       "</div>"
      ],
      "text/plain": [
       "         Purchase\n",
       "group            \n",
       "control 550.89406\n",
       "test    582.10610"
      ]
     },
     "execution_count": 5,
     "metadata": {},
     "output_type": "execute_result"
    }
   ],
   "source": [
    "df.groupby(\"group\").agg({\"Purchase\": \"mean\"})"
   ]
  },
  {
   "cell_type": "markdown",
   "id": "1f02dbbd",
   "metadata": {},
   "source": [
    "### Conducting Hypothesis Testing\n",
    "***Before performing hypothesis testing, assumption checks are performed. These are Normality Assumption and Variance Homogeneity.***\n",
    "\n",
    "***Whether the control and test groups comply with the normality assumption is tested separately via the Purchase variable***\n",
    "\n",
    "***Normality Assumption:***\n",
    "\n",
    "***H0: Normal distribution assumption is provided.***\n",
    "\n",
    "***H1: Normal distribution assumption is not provided***\n",
    "\n",
    "***p < 0.05 H0 REJECTED***\n",
    "\n",
    "***p > 0.05 H0 CANNOT BE REJECTED***\n",
    "\n",
    "***According to the test result, is the normality assumption provided for the control and test groups?***\n",
    "\n",
    "***We interpret the obtained p-value values.***"
   ]
  },
  {
   "cell_type": "code",
   "execution_count": 6,
   "id": "00246a67",
   "metadata": {},
   "outputs": [
    {
     "name": "stdout",
     "output_type": "stream",
     "text": [
      "Test Stat = 0.9773, p-value = 0.5891\n"
     ]
    }
   ],
   "source": [
    "test_stat, pvalue = shapiro(df.loc[df[\"group\"] == \"control\", \"Purchase\"])\n",
    "print('Test Stat = %.4f, p-value = %.4f' % (test_stat, pvalue))"
   ]
  },
  {
   "cell_type": "markdown",
   "id": "b8447c38",
   "metadata": {},
   "source": [
    "***p-value=0.5891***\n",
    "\n",
    "***HO cannot be rejected. The values ​​of the control group provide the normal distribution assumption.***"
   ]
  },
  {
   "cell_type": "markdown",
   "id": "d85856ba",
   "metadata": {},
   "source": [
    "***Variance Homogeneity:***\n",
    "\n",
    "***H0: Variances are homogeneous.***\n",
    "\n",
    "***H1: Variances are not homogeneous.***\n",
    "\n",
    "***p < 0.05 H0 REJECT***\n",
    "\n",
    "***p > 0.05 H0 CANNOT BE REJECTED***\n",
    "\n",
    "***We test whether variance homogeneity is provided for the control and test groups through the Purchase variable.***\n",
    "\n",
    "***Is the normality assumption provided according to the test result? We interpret the p-value values ​​obtained.***"
   ]
  },
  {
   "cell_type": "code",
   "execution_count": 7,
   "id": "de766597",
   "metadata": {},
   "outputs": [
    {
     "name": "stdout",
     "output_type": "stream",
     "text": [
      "Test Stat = 2.6393, p-value = 0.1083\n"
     ]
    }
   ],
   "source": [
    "test_stat, pvalue = levene(df.loc[df[\"group\"] == \"control\", \"Purchase\"],\n",
    "                           df.loc[df[\"group\"] == \"test\", \"Purchase\"])\n",
    "print('Test Stat = %.4f, p-value = %.4f' % (test_stat, pvalue))"
   ]
  },
  {
   "cell_type": "markdown",
   "id": "63836ead",
   "metadata": {},
   "source": [
    "***p-value=0.1083***\n",
    "\n",
    "***HO cannot be rejected. The values ​​of the Control and Test groups provide the assumption of variance homogeneity.***\n",
    "\n",
    "***Variances are Homogeneous.***\n",
    "\n",
    "***NEXT: We select the appropriate test according to the results of the Normality Assumption and Variance Homogeneity***\n",
    "\n",
    "***Since the assumptions are met, an independent two-sample t-test (parametric test) is performed.***\n",
    "\n",
    "***H0: M1 = M2 (There is no statistically significant difference between the purchase averages of the control group and the test group.)***\n",
    "\n",
    "***H1: M1 != M2 (There is a statistically significant difference between the purchase averages of the control group and the test group)***\n",
    "\n",
    "***p<0.05 HO REJECTED , p>0.05 HO CANNOT BE REJECTED***"
   ]
  },
  {
   "cell_type": "code",
   "execution_count": 8,
   "id": "e45ae33d",
   "metadata": {},
   "outputs": [
    {
     "name": "stdout",
     "output_type": "stream",
     "text": [
      "Test Stat = -0.9416, p-value = 0.3493\n"
     ]
    }
   ],
   "source": [
    "test_stat, pvalue = ttest_ind(df.loc[df[\"group\"] == \"control\", \"Purchase\"],\n",
    "                              df.loc[df[\"group\"] == \"test\", \"Purchase\"],\n",
    "                              equal_var=True)\n",
    "\n",
    "print('Test Stat = %.4f, p-value = %.4f' % (test_stat, pvalue))"
   ]
  },
  {
   "cell_type": "markdown",
   "id": "5273afdf",
   "metadata": {},
   "source": [
    "***NEXT: Considering the p_value obtained as a result of the test, we comment on whether there is a statistically significant difference between the control and test group purchase averages.***\n",
    "\n",
    "***p-value=0.3493***\n",
    "\n",
    "### HO cannot be rejected. There is no statistically significant difference between the control and test group purchase averages."
   ]
  }
 ],
 "metadata": {
  "kernelspec": {
   "display_name": "Python 3 (ipykernel)",
   "language": "python",
   "name": "python3"
  },
  "language_info": {
   "codemirror_mode": {
    "name": "ipython",
    "version": 3
   },
   "file_extension": ".py",
   "mimetype": "text/x-python",
   "name": "python",
   "nbconvert_exporter": "python",
   "pygments_lexer": "ipython3",
   "version": "3.9.12"
  }
 },
 "nbformat": 4,
 "nbformat_minor": 5
}
